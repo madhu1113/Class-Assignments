{
 "cells": [
  {
   "cell_type": "raw",
   "id": "daa65870",
   "metadata": {},
   "source": [
    "15th may 2022 python string Basic Assignment\n",
    "s = \"this is My First Python programming class and i am learNING python string and its function\"\n",
    "1 . Try to extract data from index one to index 300 with a jump of 3 \n",
    "2. Try to reverse a string without using reverse function \n",
    "3. Try to split a string after conversion of entire string in uppercase \n",
    "4. try to convert the whole string into lower case \n",
    "5 . Try to capitalize the whole string \n",
    "6 . Write a diference between isalnum() and isalpha()\n",
    "7. Try to give an example of expand tab\n",
    "8 . Give an example of strip , lstrip and rstrip \n",
    "9.  Replace a string charecter by another charector by taking your own example \n",
    "\"sudhanshu\"\n",
    "10 . Try  to give a defination of string center function with and exmple \n",
    "11 . Write your own definition of compiler and interpretor without copy paste form internet in your own language\n",
    "12 . Python is a interpreted of compiled language give a clear ans with your understanding \n",
    "13 . Try to write a usecase of python with your understanding .\n",
    "\n",
    "\n",
    "you have to send a jupyter notebook to shivan@ineuron.ai before next saturday class 21st of may . \n"
   ]
  },
  {
   "cell_type": "code",
   "execution_count": 30,
   "id": "fdd0b51c",
   "metadata": {},
   "outputs": [],
   "source": [
    "s = \"this is My First Python programming class and i am learNING python string and its function\""
   ]
  },
  {
   "cell_type": "markdown",
   "id": "a24db425",
   "metadata": {},
   "source": [
    "### 1 . Try to extract data from index one to index 300 with a jump of 3"
   ]
  },
  {
   "cell_type": "code",
   "execution_count": 31,
   "id": "2ded7283",
   "metadata": {},
   "outputs": [
    {
     "data": {
      "text/plain": [
       "'h   r tnrrmglsnimeNGyosi dtfco'"
      ]
     },
     "execution_count": 31,
     "metadata": {},
     "output_type": "execute_result"
    }
   ],
   "source": [
    "s[1:300:3]"
   ]
  },
  {
   "cell_type": "markdown",
   "id": "8fad33be",
   "metadata": {},
   "source": [
    "### 2. Try to reverse a string without using reverse function"
   ]
  },
  {
   "cell_type": "code",
   "execution_count": 32,
   "id": "19682bbb",
   "metadata": {},
   "outputs": [
    {
     "data": {
      "text/plain": [
       "'noitcnuf sti dna gnirts nohtyp GNINrael ma i dna ssalc gnimmargorp nohtyP tsriF yM si siht'"
      ]
     },
     "execution_count": 32,
     "metadata": {},
     "output_type": "execute_result"
    }
   ],
   "source": [
    "s[::-1]"
   ]
  },
  {
   "cell_type": "markdown",
   "id": "3b7fdf12",
   "metadata": {},
   "source": [
    "### 3. Try to split a string after conversion of entire string in uppercase"
   ]
  },
  {
   "cell_type": "code",
   "execution_count": 33,
   "id": "5eb4f62f",
   "metadata": {},
   "outputs": [
    {
     "data": {
      "text/plain": [
       "['THIS',\n",
       " 'IS',\n",
       " 'MY',\n",
       " 'FIRST',\n",
       " 'PYTHON',\n",
       " 'PROGRAMMING',\n",
       " 'CLASS',\n",
       " 'AND',\n",
       " 'I',\n",
       " 'AM',\n",
       " 'LEARNING',\n",
       " 'PYTHON',\n",
       " 'STRING',\n",
       " 'AND',\n",
       " 'ITS',\n",
       " 'FUNCTION']"
      ]
     },
     "execution_count": 33,
     "metadata": {},
     "output_type": "execute_result"
    }
   ],
   "source": [
    "s.upper().split()"
   ]
  },
  {
   "cell_type": "markdown",
   "id": "b1ef2a79",
   "metadata": {},
   "source": [
    "### 4. try to convert the whole string into lower case"
   ]
  },
  {
   "cell_type": "code",
   "execution_count": 34,
   "id": "0c6afb59",
   "metadata": {},
   "outputs": [
    {
     "data": {
      "text/plain": [
       "'this is my first python programming class and i am learning python string and its function'"
      ]
     },
     "execution_count": 34,
     "metadata": {},
     "output_type": "execute_result"
    }
   ],
   "source": [
    "s.lower()"
   ]
  },
  {
   "cell_type": "markdown",
   "id": "f3dfe07b",
   "metadata": {},
   "source": [
    "### 5. Try to capitalize the whole string"
   ]
  },
  {
   "cell_type": "code",
   "execution_count": 35,
   "id": "5b32425c",
   "metadata": {},
   "outputs": [
    {
     "data": {
      "text/plain": [
       "'This is my first python programming class and i am learning python string and its function'"
      ]
     },
     "execution_count": 35,
     "metadata": {},
     "output_type": "execute_result"
    }
   ],
   "source": [
    "s.capitalize()"
   ]
  },
  {
   "cell_type": "markdown",
   "id": "0a8947c3",
   "metadata": {},
   "source": [
    "### 6 . Write a diference between isalnum() and isalpha()"
   ]
  },
  {
   "cell_type": "markdown",
   "id": "e5cd521a",
   "metadata": {},
   "source": [
    "isalnum()--> If the value contains either alphabet or numeric or both in all cases it gives \"True\" else false. for eg:-\n"
   ]
  },
  {
   "cell_type": "code",
   "execution_count": 36,
   "id": "ac09b1f9",
   "metadata": {},
   "outputs": [],
   "source": [
    "a = \"Madhu1311\""
   ]
  },
  {
   "cell_type": "code",
   "execution_count": 37,
   "id": "28bbfcb3",
   "metadata": {},
   "outputs": [
    {
     "data": {
      "text/plain": [
       "True"
      ]
     },
     "execution_count": 37,
     "metadata": {},
     "output_type": "execute_result"
    }
   ],
   "source": [
    "a.isalnum()"
   ]
  },
  {
   "cell_type": "markdown",
   "id": "fe761518",
   "metadata": {},
   "source": [
    "isalpha()--> If variable holds only alphabet but not any numeric value it gives True else False. for eg:-"
   ]
  },
  {
   "cell_type": "code",
   "execution_count": 38,
   "id": "c5ba8537",
   "metadata": {},
   "outputs": [
    {
     "data": {
      "text/plain": [
       "False"
      ]
     },
     "execution_count": 38,
     "metadata": {},
     "output_type": "execute_result"
    }
   ],
   "source": [
    "a.isalpha()"
   ]
  },
  {
   "cell_type": "code",
   "execution_count": 39,
   "id": "f2171832",
   "metadata": {},
   "outputs": [],
   "source": [
    "b = \"Madhu\""
   ]
  },
  {
   "cell_type": "code",
   "execution_count": 40,
   "id": "df960e84",
   "metadata": {},
   "outputs": [
    {
     "data": {
      "text/plain": [
       "True"
      ]
     },
     "execution_count": 40,
     "metadata": {},
     "output_type": "execute_result"
    }
   ],
   "source": [
    "b.isalpha()"
   ]
  },
  {
   "cell_type": "code",
   "execution_count": 41,
   "id": "460e3e36",
   "metadata": {},
   "outputs": [
    {
     "data": {
      "text/plain": [
       "True"
      ]
     },
     "execution_count": 41,
     "metadata": {},
     "output_type": "execute_result"
    }
   ],
   "source": [
    "b.isalnum()"
   ]
  },
  {
   "cell_type": "code",
   "execution_count": 42,
   "id": "fdebd213",
   "metadata": {},
   "outputs": [],
   "source": [
    "c = \"Madhu@123\""
   ]
  },
  {
   "cell_type": "code",
   "execution_count": 43,
   "id": "6c71c144",
   "metadata": {},
   "outputs": [
    {
     "data": {
      "text/plain": [
       "False"
      ]
     },
     "execution_count": 43,
     "metadata": {},
     "output_type": "execute_result"
    }
   ],
   "source": [
    "c.isalnum()"
   ]
  },
  {
   "cell_type": "code",
   "execution_count": 44,
   "id": "d8ed249d",
   "metadata": {},
   "outputs": [
    {
     "data": {
      "text/plain": [
       "False"
      ]
     },
     "execution_count": 44,
     "metadata": {},
     "output_type": "execute_result"
    }
   ],
   "source": [
    "c.isalpha()"
   ]
  },
  {
   "cell_type": "markdown",
   "id": "1363851d",
   "metadata": {},
   "source": [
    "### 7. Try to give an example of expand tab"
   ]
  },
  {
   "cell_type": "code",
   "execution_count": 45,
   "id": "de7e75a7",
   "metadata": {},
   "outputs": [],
   "source": [
    "n = \"My\\tname\\tis\\tMadhu\\tPriya\" # wherever \\t is there it will replace it with 8 space by default."
   ]
  },
  {
   "cell_type": "code",
   "execution_count": 46,
   "id": "71a9ee2b",
   "metadata": {},
   "outputs": [
    {
     "data": {
      "text/plain": [
       "'My      name    is      Madhu   Priya'"
      ]
     },
     "execution_count": 46,
     "metadata": {},
     "output_type": "execute_result"
    }
   ],
   "source": [
    "n.expandtabs()"
   ]
  },
  {
   "cell_type": "markdown",
   "id": "6f559725",
   "metadata": {},
   "source": [
    "### 8 . Give an example of strip , lstrip and rstrip"
   ]
  },
  {
   "cell_type": "code",
   "execution_count": 47,
   "id": "9c325380",
   "metadata": {},
   "outputs": [],
   "source": [
    "name = \"    Madhu  Priya    \""
   ]
  },
  {
   "cell_type": "code",
   "execution_count": 48,
   "id": "b9c22ab5",
   "metadata": {},
   "outputs": [
    {
     "data": {
      "text/plain": [
       "'Madhu  Priya'"
      ]
     },
     "execution_count": 48,
     "metadata": {},
     "output_type": "execute_result"
    }
   ],
   "source": [
    "name.strip() # removes Space in both left and right."
   ]
  },
  {
   "cell_type": "code",
   "execution_count": 49,
   "id": "37b8214c",
   "metadata": {},
   "outputs": [
    {
     "data": {
      "text/plain": [
       "'Madhu  Priya    '"
      ]
     },
     "execution_count": 49,
     "metadata": {},
     "output_type": "execute_result"
    }
   ],
   "source": [
    "name.lstrip() # removes only left space "
   ]
  },
  {
   "cell_type": "code",
   "execution_count": 50,
   "id": "31a83866",
   "metadata": {},
   "outputs": [
    {
     "data": {
      "text/plain": [
       "'    Madhu  Priya'"
      ]
     },
     "execution_count": 50,
     "metadata": {},
     "output_type": "execute_result"
    }
   ],
   "source": [
    "name.rstrip() # Removes only right space"
   ]
  },
  {
   "cell_type": "markdown",
   "id": "f6fd2ad6",
   "metadata": {},
   "source": [
    "### 9. Replace a string charecter by another charector by taking your own example \"sudhanshu\""
   ]
  },
  {
   "cell_type": "code",
   "execution_count": 51,
   "id": "77b5f72c",
   "metadata": {},
   "outputs": [],
   "source": [
    "name = \"sudhanshu\""
   ]
  },
  {
   "cell_type": "code",
   "execution_count": 52,
   "id": "06e317f9",
   "metadata": {},
   "outputs": [
    {
     "data": {
      "text/plain": [
       "'spdhanshp'"
      ]
     },
     "execution_count": 52,
     "metadata": {},
     "output_type": "execute_result"
    }
   ],
   "source": [
    "name.replace(\"u\",\"p\") # it will replace u with p."
   ]
  },
  {
   "cell_type": "markdown",
   "id": "5d5d69df",
   "metadata": {},
   "source": [
    "### 10 . Try to give a defination of string center function with and exmple "
   ]
  },
  {
   "cell_type": "markdown",
   "id": "edc7abe9",
   "metadata": {},
   "source": [
    "string center(a,b):- It is a string function which place the variable value in center. It takes 2 arguments where 1st argument is integer which denotes the total space it is going to take whereas second argument should be a string of character of any size which denotes the remaining space is going to be filled with that particular string. for eg:-"
   ]
  },
  {
   "cell_type": "code",
   "execution_count": 53,
   "id": "09e2acba",
   "metadata": {},
   "outputs": [],
   "source": [
    "name = \"Madhu Priya\""
   ]
  },
  {
   "cell_type": "code",
   "execution_count": 54,
   "id": "906457a4",
   "metadata": {},
   "outputs": [
    {
     "data": {
      "text/plain": [
       "'####Madhu Priya#####'"
      ]
     },
     "execution_count": 54,
     "metadata": {},
     "output_type": "execute_result"
    }
   ],
   "source": [
    "name.center(20, '#') # It brings the string in center and fills the remaining space with # in this case."
   ]
  },
  {
   "cell_type": "markdown",
   "id": "eb973e37",
   "metadata": {},
   "source": [
    "### 11 . Write your own definition of compiler and interpretor without copy paste form internet in your own language"
   ]
  },
  {
   "cell_type": "markdown",
   "id": "95ff0678",
   "metadata": {},
   "source": [
    "Compiler converts the source code into object code and later analyse and prodce the output. Since it converts into object code (for eg. .class file in case of java and .exe file in case of C or C++).it needs more m/m space than interpreter. It executes the program at a time. Compiler is faster than Interpreter.\n",
    "whereas interpreter execute the code line by line so it takes more time in analysis and it is slower than compiler. Interpreter doesn't convert source code into object code so less m/m is required.\n",
    "\n",
    "A compiler is a program that takes source code written in a high-level programming language and translates it into machine code (or bytecode) that can be directly executed by the computer's processor. The resulting machine code is usually stored in an executable file, which can be run independently of the compiler. The compilation process typically involves several stages, such as lexing, parsing, optimization, and code generation.\n",
    "\n",
    "An interpreter, on the other hand, is a program that reads and executes source code directly, without first translating it into machine code. The interpreter typically reads one line of code at a time, parses it, and then executes it immediately. This process is repeated for each line of code in the program. Interpreted languages are often more flexible and easier to learn than compiled languages, but they may be slower since they don't have the benefit of compilation optimization.\n",
    "\n",
    "Here's a summary of the main differences between compilers and interpreters:\n",
    "\n",
    "A compiler translates source code into machine code or bytecode, while an interpreter executes source code directly.\n",
    "Compiled code can be executed independently of the compiler, while interpreted code requires the interpreter to be present.\n",
    "Compilation involves several stages and optimizations, while interpretation typically involves parsing and immediate execution.\n",
    "Compiled languages tend to be faster and more efficient, while interpreted languages tend to be more flexible and easier to learn.\n",
    "Some examples of compiled languages are C, C++, and Java, while some examples of interpreted languages are Python, Ruby, and JavaScript."
   ]
  },
  {
   "cell_type": "markdown",
   "id": "0d58d069",
   "metadata": {},
   "source": [
    "### 12 . Python is a interpreted of compiled language give a clear ans with your understanding"
   ]
  },
  {
   "cell_type": "markdown",
   "id": "3e37f611",
   "metadata": {},
   "source": [
    "Python is an interpreted language as we can see that no object file is getting created in python. only one file with .py gets created and once we run the code we get th o/p. So we can say that python is an interpreted language.\n",
    "\n",
    "Python is an interpreted language. While it is possible to compile Python code into bytecode or executable files, the Python language itself is designed to be interpreted. When you run a Python program, the interpreter reads and executes the code directly, one line at a time. This is in contrast to compiled languages like C or Java, where the source code is compiled into machine code before execution.\n",
    "\n",
    "However, it's worth noting that Python's interpreter does perform some compilation steps as it executes the code. For example, the interpreter will compile Python code into bytecode to improve performance on subsequent executions of the same code. Additionally, there are tools available for Python that can help optimize and compile Python code for improved performance. But at its core, Python is still an interpreted language."
   ]
  },
  {
   "cell_type": "markdown",
   "id": "7d6a4066",
   "metadata": {},
   "source": [
    "### 13. Try to write a usecase of python with your understanding ."
   ]
  },
  {
   "cell_type": "markdown",
   "id": "83ccb07b",
   "metadata": {},
   "source": [
    "Python is a versatile and widely-used programming language that can be applied to a variety of use cases, including:\n",
    "\n",
    "1. Web development: Python can be used to build web applications and backend services using frameworks such as Django, Flask, and Pyramid.\n",
    "\n",
    "2. Data science and machine learning: Python has become a go-to language for data scientists and machine learning engineers due to its rich ecosystem of libraries and tools, such as NumPy, Pandas, Scikit-learn, and TensorFlow.\n",
    "\n",
    "3. Scripting and automation: Python's concise syntax and powerful libraries make it an ideal language for scripting and automation tasks, such as file manipulation, data processing, and system administration.\n",
    "\n",
    "4. Scientific computing: Python has a strong presence in scientific computing due to its ability to interface with other languages like C and Fortran, as well as its support for scientific libraries like SciPy, matplotlib, and Jupyter.\n",
    "\n",
    "5. Game development: Python is increasingly being used for game development, particularly for game logic and scripting. Popular game engines such as Unity and Godot support Python scripting.\n",
    "\n",
    "6. Desktop applications: Python can be used to build cross-platform desktop applications using frameworks such as PyQt, PySide, and wxPython.\n",
    "\n",
    "7. Overall, Python's simplicity, readability, and wide-ranging capabilities make it a popular choice for a diverse set of use cases.\n"
   ]
  }
 ],
 "metadata": {
  "kernelspec": {
   "display_name": "Python 3 (ipykernel)",
   "language": "python",
   "name": "python3"
  },
  "language_info": {
   "codemirror_mode": {
    "name": "ipython",
    "version": 3
   },
   "file_extension": ".py",
   "mimetype": "text/x-python",
   "name": "python",
   "nbconvert_exporter": "python",
   "pygments_lexer": "ipython3",
   "version": "3.9.12"
  }
 },
 "nbformat": 4,
 "nbformat_minor": 5
}
